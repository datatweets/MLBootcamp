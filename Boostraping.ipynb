{
 "cells": [
  {
   "cell_type": "code",
   "execution_count": 1,
   "id": "d34cdaaf",
   "metadata": {},
   "outputs": [
    {
     "data": {
      "text/plain": [
       "47.5"
      ]
     },
     "execution_count": 1,
     "metadata": {},
     "output_type": "execute_result"
    }
   ],
   "source": [
    "import numpy as np\n",
    "ages = [25,30,35,40,45,50,55,60,65,70]\n",
    "np.mean(ages)"
   ]
  },
  {
   "cell_type": "code",
   "execution_count": 2,
   "id": "f132a48b",
   "metadata": {},
   "outputs": [
    {
     "data": {
      "text/plain": [
       "array([40, 55, 65, 50, 30, 55, 45, 40, 40, 55])"
      ]
     },
     "execution_count": 2,
     "metadata": {},
     "output_type": "execute_result"
    }
   ],
   "source": [
    "boot_sample = np.random.choice(ages, size=len(ages), replace=True)\n",
    "boot_sample"
   ]
  },
  {
   "cell_type": "code",
   "execution_count": 3,
   "id": "f11cc99b",
   "metadata": {},
   "outputs": [],
   "source": [
    "boot_means = np.zeros(1000)"
   ]
  },
  {
   "cell_type": "code",
   "execution_count": 4,
   "id": "594f3a97",
   "metadata": {},
   "outputs": [],
   "source": [
    "for i in range(1000):\n",
    "    boot_sample = np.random.choice(ages, size=len(ages), replace=True)\n",
    "    boot_means[i]= np.mean(boot_sample)\n"
   ]
  },
  {
   "cell_type": "code",
   "execution_count": 5,
   "id": "60e7f5de",
   "metadata": {},
   "outputs": [],
   "source": [
    "est_mean_age = np.mean(boot_means)\n",
    "est_std_age = np.std(boot_means, ddof=1)"
   ]
  },
  {
   "cell_type": "code",
   "execution_count": 6,
   "id": "67c89c9b",
   "metadata": {},
   "outputs": [
    {
     "name": "stdout",
     "output_type": "stream",
     "text": [
      "Est. population mean age: 47.472\n",
      "Standard Error of Estimate: 4.590946829663005\n"
     ]
    }
   ],
   "source": [
    "print(\"Est. population mean age:\", est_mean_age)\n",
    "print(\"Standard Error of Estimate:\", est_std_age)"
   ]
  },
  {
   "cell_type": "code",
   "execution_count": 7,
   "id": "62b61908",
   "metadata": {},
   "outputs": [
    {
     "name": "stdout",
     "output_type": "stream",
     "text": [
      "95% Confidence Interval: [39.  56.5]\n"
     ]
    }
   ],
   "source": [
    "print(\"95% Confidence Interval:\", np.percentile(boot_means,[2.5,97.5]))"
   ]
  },
  {
   "cell_type": "code",
   "execution_count": null,
   "id": "8d780255",
   "metadata": {},
   "outputs": [],
   "source": []
  }
 ],
 "metadata": {
  "kernelspec": {
   "display_name": "Python 3 (ipykernel)",
   "language": "python",
   "name": "python3"
  },
  "language_info": {
   "codemirror_mode": {
    "name": "ipython",
    "version": 3
   },
   "file_extension": ".py",
   "mimetype": "text/x-python",
   "name": "python",
   "nbconvert_exporter": "python",
   "pygments_lexer": "ipython3",
   "version": "3.9.13"
  }
 },
 "nbformat": 4,
 "nbformat_minor": 5
}
